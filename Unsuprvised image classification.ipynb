{
 "cells": [
  {
   "cell_type": "markdown",
   "metadata": {},
   "source": [
    "# Unsuprvised image classification"
   ]
  },
  {
   "cell_type": "markdown",
   "metadata": {},
   "source": [
    "## K-means clustering"
   ]
  },
  {
   "cell_type": "markdown",
   "metadata": {},
   "source": [
    "K-means clustering is a method of vector quantization that aims to partition n observations into k clusters in which each observation belongs to the cluster with the nearest mean (cluster centers or cluster centroid), serving as a prototype of the cluster. The algorithm will consider each image as vector and identify clusters of images sharing common traits. "
   ]
  },
  {
   "cell_type": "code",
   "execution_count": 62,
   "metadata": {},
   "outputs": [],
   "source": [
    "import os\n",
    "import re\n",
    "import numpy as np\n",
    "\n",
    "from PIL import Image \n",
    "import matplotlib.pyplot as plt\n",
    "import seaborn as sns\n",
    "\n",
    "from sklearn.preprocessing import LabelEncoder\n",
    "from sklearn.cluster import MiniBatchKMeans\n",
    "from sklearn.metrics import confusion_matrix, accuracy_score"
   ]
  },
  {
   "cell_type": "code",
   "execution_count": 63,
   "metadata": {},
   "outputs": [],
   "source": [
    "data_folder = \"../unsupervised_image_classification/data\" # the path to the image folder"
   ]
  },
  {
   "cell_type": "markdown",
   "metadata": {},
   "source": [
    "The function below will preprocess the images in the data folder to provide a features array on which the k-mean will be fitted and labels vector which will be used to compare the k-means performance. "
   ]
  },
  {
   "cell_type": "code",
   "execution_count": 64,
   "metadata": {},
   "outputs": [],
   "source": [
    "def prep_data(folder):\n",
    "    '''\n",
    "    The function will open every image in the given folder,\n",
    "    apply a preprocessing methods and return a feartures array, \n",
    "    along with a labels vector and the image categories inferred\n",
    "    from image titles.\n",
    "    input: folder path\n",
    "    output: image classnames, labels vector, features array\n",
    "    '''\n",
    "    labels = []\n",
    "    features =[]\n",
    "    newsize = (300, 300) # the final image size\n",
    "    labelencoder = LabelEncoder()\n",
    "    for root, folders, filenames in os.walk(folder):\n",
    "        for file in filenames:\n",
    "            # infer the labels from the image title\n",
    "            labels.append(re.findall(r\"^([^.]+)\", file)) \n",
    "            # load and preprocess the image file\n",
    "            imgFile = os.path.join(root,file)\n",
    "            img = Image.open(imgFile)\n",
    "            # resize the image by keeping the aspect ratio\n",
    "            img_resize = img.resize(newsize, Image.ANTIALIAS)\n",
    "            img_resize = np.array(img_resize)\n",
    "            features.append(img_resize.ravel())\n",
    "    # output the class names\n",
    "    classnames = list(np.unique(labels))\n",
    "    # output the individual labels\n",
    "    labels = labelencoder.fit_transform(np.array(labels).ravel())\n",
    "    # output a features matrix of all images\n",
    "    features = np.array(features)/255.\n",
    "    return classnames, labels, features"
   ]
  },
  {
   "cell_type": "code",
   "execution_count": 65,
   "metadata": {},
   "outputs": [
    {
     "ename": "MemoryError",
     "evalue": "Unable to allocate 4.03 GiB for an array with shape (2002, 270000) and data type float64",
     "output_type": "error",
     "traceback": [
      "\u001b[1;31m---------------------------------------------------------------------------\u001b[0m",
      "\u001b[1;31mMemoryError\u001b[0m                               Traceback (most recent call last)",
      "\u001b[1;32m<ipython-input-65-f8f83e885b97>\u001b[0m in \u001b[0;36m<module>\u001b[1;34m\u001b[0m\n\u001b[1;32m----> 1\u001b[1;33m \u001b[0mclassnames\u001b[0m\u001b[1;33m,\u001b[0m \u001b[0mlabels\u001b[0m\u001b[1;33m,\u001b[0m \u001b[0mfeatures\u001b[0m \u001b[1;33m=\u001b[0m \u001b[0mprep_data\u001b[0m\u001b[1;33m(\u001b[0m\u001b[0mdata_folder\u001b[0m\u001b[1;33m)\u001b[0m\u001b[1;33m\u001b[0m\u001b[1;33m\u001b[0m\u001b[0m\n\u001b[0m",
      "\u001b[1;32m<ipython-input-64-90fa61f5e2b9>\u001b[0m in \u001b[0;36mprep_data\u001b[1;34m(folder)\u001b[0m\n\u001b[0;32m     28\u001b[0m     \u001b[0mlabels\u001b[0m \u001b[1;33m=\u001b[0m \u001b[0mlabelencoder\u001b[0m\u001b[1;33m.\u001b[0m\u001b[0mfit_transform\u001b[0m\u001b[1;33m(\u001b[0m\u001b[0mnp\u001b[0m\u001b[1;33m.\u001b[0m\u001b[0marray\u001b[0m\u001b[1;33m(\u001b[0m\u001b[0mlabels\u001b[0m\u001b[1;33m)\u001b[0m\u001b[1;33m.\u001b[0m\u001b[0mravel\u001b[0m\u001b[1;33m(\u001b[0m\u001b[1;33m)\u001b[0m\u001b[1;33m)\u001b[0m\u001b[1;33m\u001b[0m\u001b[1;33m\u001b[0m\u001b[0m\n\u001b[0;32m     29\u001b[0m     \u001b[1;31m# output a features matrix of all images\u001b[0m\u001b[1;33m\u001b[0m\u001b[1;33m\u001b[0m\u001b[1;33m\u001b[0m\u001b[0m\n\u001b[1;32m---> 30\u001b[1;33m     \u001b[0mfeatures\u001b[0m \u001b[1;33m=\u001b[0m \u001b[0mnp\u001b[0m\u001b[1;33m.\u001b[0m\u001b[0marray\u001b[0m\u001b[1;33m(\u001b[0m\u001b[0mfeatures\u001b[0m\u001b[1;33m)\u001b[0m\u001b[1;33m/\u001b[0m\u001b[1;36m255.\u001b[0m\u001b[1;33m\u001b[0m\u001b[1;33m\u001b[0m\u001b[0m\n\u001b[0m\u001b[0;32m     31\u001b[0m     \u001b[1;32mreturn\u001b[0m \u001b[0mclassnames\u001b[0m\u001b[1;33m,\u001b[0m \u001b[0mlabels\u001b[0m\u001b[1;33m,\u001b[0m \u001b[0mfeatures\u001b[0m\u001b[1;33m\u001b[0m\u001b[1;33m\u001b[0m\u001b[0m\n",
      "\u001b[1;31mMemoryError\u001b[0m: Unable to allocate 4.03 GiB for an array with shape (2002, 270000) and data type float64"
     ]
    }
   ],
   "source": [
    "classnames, labels, features = prep_data(data_folder)"
   ]
  },
  {
   "cell_type": "code",
   "execution_count": null,
   "metadata": {},
   "outputs": [],
   "source": [
    "print(len(features), 'features with shape:', features.shape)\n",
    "print(len(labels), 'labels with shape:', labels.shape)\n",
    "print(len(classnames), 'classes:', classnames)"
   ]
  },
  {
   "cell_type": "markdown",
   "metadata": {},
   "source": [
    "Set the number of clusters to the number of uniques labels in the dataset."
   ]
  },
  {
   "cell_type": "code",
   "execution_count": null,
   "metadata": {},
   "outputs": [],
   "source": [
    "n_clusters = len(np.unique(labels))"
   ]
  },
  {
   "cell_type": "markdown",
   "metadata": {},
   "source": [
    "Fit the k-means algorithm to the preprocessed features and retrieve the cluster labels."
   ]
  },
  {
   "cell_type": "code",
   "execution_count": 11,
   "metadata": {},
   "outputs": [],
   "source": [
    "kmeans = MiniBatchKMeans(n_clusters = n_clusters, n_init=20).fit(features)"
   ]
  },
  {
   "cell_type": "markdown",
   "metadata": {},
   "source": [
    "Check the baseline accuracy score and the performance of the k-means algorithm on the provided dataset.\n",
    "\n",
    "We will use the Normalized Mutual Information (NMI) score to evaluate our model. Mutual information is a symmetric measure for the degree of dependency between the clustering and the manual classification. It is based on the notion of cluster purity pi, which measures the quality of a single cluster Ci, the largest number of objects in cluster Ci which Ci has in common with a manual class Mj, having compared Ci to all manual classes in M. Because NMI is normalized, we can use it to compare clusterings with different numbers of clusters. The closer the NMI value is to 1 the more accurate the cluster partition."
   ]
  },
  {
   "cell_type": "code",
   "execution_count": 53,
   "metadata": {},
   "outputs": [
    {
     "data": {
      "text/plain": [
       "0.0017355660776335706"
      ]
     },
     "execution_count": 53,
     "metadata": {},
     "output_type": "execute_result"
    }
   ],
   "source": [
    "normalized_mutual_info_score(labels, kmeans.labels_)"
   ]
  },
  {
   "cell_type": "code",
   "execution_count": 21,
   "metadata": {},
   "outputs": [],
   "source": [
    "def plot_conf_mat(labels_true, labels_pred):\n",
    "    '''\n",
    "    The function will plot the confusion matrix\n",
    "    for the true and the predicted labels.\n",
    "    input: the original labels, predicted labels\n",
    "    output: confusion matrix plot\n",
    "    '''\n",
    "    sns.set(font_scale=3)\n",
    "    plt.figure(figsize=(10, 5))\n",
    "    sns.heatmap(confusion_matrix(labels_true, labels_pred), annot=True, fmt=\"d\", annot_kws={\"size\": 20});\n",
    "    plt.title(\"Confusion matrix\", fontsize=30)\n",
    "    plt.ylabel('True label', fontsize=25)\n",
    "    plt.xlabel('Clustering label', fontsize=25)\n",
    "    plt.show()"
   ]
  },
  {
   "cell_type": "code",
   "execution_count": 22,
   "metadata": {},
   "outputs": [
    {
     "data": {
      "image/png": "[encoded data removed]",
      "text/plain": [
       "<Figure size 720x360 with 2 Axes>"
      ]
     },
     "metadata": {},
     "output_type": "display_data"
    }
   ],
   "source": [
    "plot_conf_mat(labels, kmeans.labels_)"
   ]
  },
  {
   "cell_type": "markdown",
   "metadata": {},
   "source": [
    "The k-means algorithm does not perform better than a random labeling of the raw images of the dataset. More can be said after retrieving the cluster names using the function below."
   ]
  },
  {
   "cell_type": "code",
   "execution_count": 30,
   "metadata": {},
   "outputs": [],
   "source": [
    "def retrieve_info(cluster_labels,labels,classnames):\n",
    "    '''\n",
    "    Associates most probable label with each cluster in k-means model.\n",
    "    input: predicted cluster labels, the original labels, the class names\n",
    "    output: dictionary of clusters assigned to each label\n",
    "    '''\n",
    "    reference_labels = {}\n",
    "    # for loop to run through each label of cluster label\n",
    "    for i in range(len(np.unique(cluster_labels))):\n",
    "        index = np.where(cluster_labels == i,1,0)\n",
    "        num = np.bincount(labels[index==1]).argmax()\n",
    "        reference_labels[i] = classnames[num]\n",
    "    return reference_labels"
   ]
  },
  {
   "cell_type": "code",
   "execution_count": 31,
   "metadata": {},
   "outputs": [
    {
     "data": {
      "text/plain": [
       "{0: 'dog', 1: 'cat'}"
      ]
     },
     "execution_count": 31,
     "metadata": {},
     "output_type": "execute_result"
    }
   ],
   "source": [
    "retrieve_info(kmeans.labels_, labels, classnames)"
   ]
  },
  {
   "cell_type": "markdown",
   "metadata": {},
   "source": [
    "499 dog pictures are indentified as such which is less than 502 pictures of dogs identified as cats. The performance on cats photos is slightly better as 551 cat pjotos are identified as such and 450 photos are identified as of dogs.\n",
    "\n",
    "A twist to the classification can be a different preprocessing using transfer learning to extract the high-level features."
   ]
  },
  {
   "cell_type": "markdown",
   "metadata": {},
   "source": [
    "## Transfert learning applied to K-means clustering"
   ]
  },
  {
   "cell_type": "markdown",
   "metadata": {},
   "source": [
    "Transfer learning using a pretrained ResNet50 will first extract the high-level feature vector which will be then fitted by k-means to perform the clustering. "
   ]
  },
  {
   "cell_type": "code",
   "execution_count": 51,
   "metadata": {},
   "outputs": [],
   "source": [
    "import os\n",
    "import cv2\n",
    "import re\n",
    "import numpy as np\n",
    "\n",
    "import matplotlib.pyplot as plt\n",
    "import seaborn as sns\n",
    "\n",
    "from sklearn.preprocessing import LabelEncoder\n",
    "from sklearn.cluster import MiniBatchKMeans\n",
    "from sklearn.metrics import confusion_matrix, normalized_mutual_info_score\n",
    "\n",
    "import keras.backend as K\n",
    "from tensorflow.keras import Sequential\n",
    "from tensorflow.keras.applications import ResNet50\n",
    "from tensorflow.keras.applications.resnet50 import preprocess_input"
   ]
  },
  {
   "cell_type": "markdown",
   "metadata": {},
   "source": [
    "Download the pretrained ResNet50 and freeze its weights. "
   ]
  },
  {
   "cell_type": "code",
   "execution_count": 40,
   "metadata": {},
   "outputs": [],
   "source": [
    "transf_model = Sequential()\n",
    "transf_model.add(ResNet50(weights='imagenet', include_top=False))\n",
    "\n",
    "# say no to training first layer (ResNet) model. It is already trained\n",
    "transf_model.layers[0].trainable = False"
   ]
  },
  {
   "cell_type": "code",
   "execution_count": 41,
   "metadata": {},
   "outputs": [],
   "source": [
    "def extract_vector(folder):\n",
    "    '''\n",
    "    The function will open every image in the given folder,\n",
    "    apply a preprocessing methods and return a feartures array, \n",
    "    along with a labels vector and the image categories inferred\n",
    "    from image titles.\n",
    "    input: folder path\n",
    "    output: image classnames, labels vector, features array\n",
    "    '''\n",
    "    resnet_feature_list = []\n",
    "    labels = []\n",
    "    labelencoder = LabelEncoder()\n",
    "    counter = 0\n",
    "    for root, dirs, filenames in os.walk(folder):\n",
    "        for file in filenames:\n",
    "            # infer the labels from the image title\n",
    "            labels.append(re.findall(r\"^([^.]+)\", file))\n",
    "            # load and preprocess the image file\n",
    "            imgFile = os.path.join(root,file)\n",
    "            img = cv2.imread(imgFile)\n",
    "            img = cv2.cvtColor(img, cv2.COLOR_BGR2RGB)\n",
    "            img_large = cv2.resize(img,(224,224))\n",
    "            img_model = preprocess_input(np.expand_dims(img_large.copy(), axis=0))\n",
    "            # for every image apply the ResNet50 to create a feature vector \n",
    "            resnet_feature = transf_model.predict(img_model)\n",
    "            resnet_feature_np = np.array(resnet_feature)\n",
    "            resnet_feature_list.append(resnet_feature_np.flatten())\n",
    "            # keep track of processed images via a counter\n",
    "            counter+=1\n",
    "            if counter%100==0:\n",
    "                print(f'{counter} images processed')\n",
    "    # output a features matrix of all images\n",
    "    features_array = np.array(resnet_feature_list)\n",
    "    # output the class names\n",
    "    classnames = list(np.unique(labels))\n",
    "    # output the individual labels\n",
    "    labels = labelencoder.fit_transform(np.array(labels).ravel())\n",
    "    return classnames, labels, features_array"
   ]
  },
  {
   "cell_type": "code",
   "execution_count": 42,
   "metadata": {},
   "outputs": [
    {
     "name": "stdout",
     "output_type": "stream",
     "text": [
      "100 images processed\n",
      "200 images processed\n",
      "300 images processed\n",
      "400 images processed\n",
      "500 images processed\n",
      "600 images processed\n",
      "700 images processed\n",
      "800 images processed\n",
      "900 images processed\n",
      "1000 images processed\n",
      "1100 images processed\n",
      "1200 images processed\n",
      "1300 images processed\n",
      "1400 images processed\n",
      "1500 images processed\n",
      "1600 images processed\n",
      "1700 images processed\n",
      "1800 images processed\n",
      "1900 images processed\n",
      "2000 images processed\n"
     ]
    }
   ],
   "source": [
    "classnames, labels, features_array = extract_vector(data_folder)"
   ]
  },
  {
   "cell_type": "code",
   "execution_count": 44,
   "metadata": {},
   "outputs": [
    {
     "name": "stdout",
     "output_type": "stream",
     "text": [
      "2002 features with shape: (2002, 100352)\n",
      "2002 labels with shape: (2002,)\n",
      "2 classes: ['cat', 'dog']\n"
     ]
    }
   ],
   "source": [
    "print(len(features), 'features with shape:', features_array.shape)\n",
    "print(len(labels), 'labels with shape:', labels.shape)\n",
    "print(len(classnames), 'classes:', classnames)"
   ]
  },
  {
   "cell_type": "markdown",
   "metadata": {},
   "source": [
    "Fit the k-means algorithm to the preprocessed features and retrieve the cluster labels."
   ]
  },
  {
   "cell_type": "code",
   "execution_count": 45,
   "metadata": {},
   "outputs": [],
   "source": [
    "kmeans_t = MiniBatchKMeans(n_clusters = n_clusters, n_init=20).fit(features_array)"
   ]
  },
  {
   "cell_type": "markdown",
   "metadata": {},
   "source": [
    "Notice the improvement in the NMI score. A preprocesing using transfer learning to infer high-level features form images increased the NMI from 0.0017 to 0.8083. A significant improvement is shown by the confusion matrix. Only a total of 67 images have been misclassified. Cat are more prone to be confused for dogs than the opposite. "
   ]
  },
  {
   "cell_type": "code",
   "execution_count": 52,
   "metadata": {},
   "outputs": [
    {
     "data": {
      "text/plain": [
       "0.808372009487411"
      ]
     },
     "execution_count": 52,
     "metadata": {},
     "output_type": "execute_result"
    }
   ],
   "source": [
    "normalized_mutual_info_score(labels, kmeans_t.labels_)"
   ]
  },
  {
   "cell_type": "code",
   "execution_count": 49,
   "metadata": {},
   "outputs": [
    {
     "data": {
      "image/png": "[encoded data removed]",
      "text/plain": [
       "<Figure size 720x360 with 2 Axes>"
      ]
     },
     "metadata": {},
     "output_type": "display_data"
    }
   ],
   "source": [
    "plot_conf_mat(labels, kmeans_t.labels_)"
   ]
  },
  {
   "cell_type": "code",
   "execution_count": 55,
   "metadata": {},
   "outputs": [
    {
     "data": {
      "text/plain": [
       "{0: 'dog', 1: 'cat'}"
      ]
     },
     "execution_count": 55,
     "metadata": {},
     "output_type": "execute_result"
    }
   ],
   "source": [
    "retrieve_info(kmeans_t.labels_,labels, classnames)"
   ]
  }
 ],
 "metadata": {
  "kernelspec": {
   "display_name": "Python 3",
   "language": "python",
   "name": "python3"
  },
  "language_info": {
   "codemirror_mode": {
    "name": "ipython",
    "version": 3
   },
   "file_extension": ".py",
   "mimetype": "text/x-python",
   "name": "python",
   "nbconvert_exporter": "python",
   "pygments_lexer": "ipython3",
   "version": "3.7.6"
  }
 },
 "nbformat": 4,
 "nbformat_minor": 4
}
